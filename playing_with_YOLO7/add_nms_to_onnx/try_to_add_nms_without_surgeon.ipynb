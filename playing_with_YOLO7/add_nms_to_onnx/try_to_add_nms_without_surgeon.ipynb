{
 "cells": [
  {
   "cell_type": "code",
   "execution_count": 62,
   "metadata": {},
   "outputs": [],
   "source": [
    "import numpy as np\n",
    "\n",
    "import onnx\n",
    "from onnx import numpy_helper, TensorProto, checker\n",
    "from onnx import helper as onnx_helper\n"
   ]
  },
  {
   "cell_type": "code",
   "execution_count": 63,
   "metadata": {},
   "outputs": [],
   "source": [
    "model = onnx.load('without_nms.onnx')\n",
    "graph = model.graph"
   ]
  },
  {
   "cell_type": "code",
   "execution_count": 64,
   "metadata": {},
   "outputs": [
    {
     "data": {
      "text/plain": [
       "['output', '298', '316']"
      ]
     },
     "execution_count": 64,
     "metadata": {},
     "output_type": "execute_result"
    }
   ],
   "source": [
    "names = [output.name for output in graph.output]\n",
    "names"
   ]
  },
  {
   "cell_type": "code",
   "execution_count": 65,
   "metadata": {},
   "outputs": [],
   "source": [
    "value = np.array([1, -1, 10], dtype=np.int64)\n",
    "reshape_size_1 = numpy_helper.from_array(value, 'reshape_size_1')\n",
    "output_reshaped = onnx_helper.make_tensor_value_info(\n",
    "    'output_reshaped',\n",
    "    TensorProto.FLOAT, [1, None, -4]\n",
    ")\n",
    "\n",
    "node = onnx_helper.make_node(\n",
    "    'Reshape',\n",
    "    ['output', 'reshape_size_1'],\n",
    "    ['output_reshaped']\n",
    ")\n",
    "\n",
    "graph.initializer.append(reshape_size_1)\n",
    "graph.node.append(node)\n"
   ]
  },
  {
   "cell_type": "code",
   "execution_count": 66,
   "metadata": {},
   "outputs": [],
   "source": [
    "while graph.output:\n",
    "    graph.output.pop()\n",
    "graph.output.append(output_reshaped)\n"
   ]
  },
  {
   "cell_type": "code",
   "execution_count": 67,
   "metadata": {},
   "outputs": [],
   "source": [
    "checker.check_model(model)"
   ]
  },
  {
   "cell_type": "code",
   "execution_count": 68,
   "metadata": {},
   "outputs": [],
   "source": [
    "onnx.save(model, 'test.onnx')"
   ]
  },
  {
   "cell_type": "markdown",
   "metadata": {},
   "source": [
    "## Test that model make inference"
   ]
  },
  {
   "cell_type": "code",
   "execution_count": 69,
   "metadata": {},
   "outputs": [],
   "source": [
    "import onnxruntime as onnx_run\n",
    "import cv2\n"
   ]
  },
  {
   "cell_type": "code",
   "execution_count": 70,
   "metadata": {},
   "outputs": [
    {
     "data": {
      "text/plain": [
       "<onnxruntime.capi.onnxruntime_inference_collection.InferenceSession at 0x22ed3424a00>"
      ]
     },
     "execution_count": 70,
     "metadata": {},
     "output_type": "execute_result"
    }
   ],
   "source": [
    "session = onnx_run.InferenceSession('test.onnx')\n",
    "session"
   ]
  },
  {
   "cell_type": "code",
   "execution_count": 77,
   "metadata": {},
   "outputs": [],
   "source": [
    "image = cv2.imread('DJI_0418-00000017.JPG')\n",
    "image = cv2.cvtColor(image, cv2.COLOR_BGR2RGB)\n",
    "\n",
    "# crop image\n",
    "height, width = image.shape[:2]\n",
    "startX = width // 2 - 320\n",
    "startY = height // 2 - 320\n",
    "endX = startX + 640\n",
    "endY = startY + 640\n",
    "image = image[startY:endY, startX:endX]\n",
    "\n",
    "batch = np.moveaxis(image, -1, 0)[None, ...] / np.float32(255)\n",
    "\n",
    "result = session.run(None, {'images': batch})\n",
    "result = result[0]"
   ]
  },
  {
   "cell_type": "code",
   "execution_count": 81,
   "metadata": {},
   "outputs": [
    {
     "data": {
      "text/plain": [
       "(1, 19200, 10)"
      ]
     },
     "execution_count": 81,
     "metadata": {},
     "output_type": "execute_result"
    }
   ],
   "source": [
    "result.shape"
   ]
  },
  {
   "cell_type": "code",
   "execution_count": 83,
   "metadata": {},
   "outputs": [
    {
     "data": {
      "text/plain": [
       "array([ 0.19433665,  0.0771229 , -0.78236604,  0.60730326, -7.3969955 ,\n",
       "       -3.5028577 , -3.6214676 , -0.46629   ,  0.74715555, -3.5403032 ],\n",
       "      dtype=float32)"
      ]
     },
     "execution_count": 83,
     "metadata": {},
     "output_type": "execute_result"
    }
   ],
   "source": [
    "result[0, 0, :]"
   ]
  }
 ],
 "metadata": {
  "kernelspec": {
   "display_name": "project-p",
   "language": "python",
   "name": "python3"
  },
  "language_info": {
   "codemirror_mode": {
    "name": "ipython",
    "version": 3
   },
   "file_extension": ".py",
   "mimetype": "text/x-python",
   "name": "python",
   "nbconvert_exporter": "python",
   "pygments_lexer": "ipython3",
   "version": "3.9.19"
  },
  "orig_nbformat": 4
 },
 "nbformat": 4,
 "nbformat_minor": 2
}
