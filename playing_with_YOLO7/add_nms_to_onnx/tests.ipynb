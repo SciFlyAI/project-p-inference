{
 "cells": [
  {
   "cell_type": "code",
   "execution_count": 9,
   "metadata": {},
   "outputs": [],
   "source": [
    "import numpy as np\n",
    "from onnx import helper"
   ]
  },
  {
   "cell_type": "code",
   "execution_count": 8,
   "metadata": {},
   "outputs": [
    {
     "data": {
      "text/plain": [
       "(1, 75, 10)"
      ]
     },
     "execution_count": 8,
     "metadata": {},
     "output_type": "execute_result"
    }
   ],
   "source": [
    "dimension = np.array([1, 3, 5, 5, 10])\n",
    "vals = np.prod(dimension)\n",
    "arr = np.arange(vals).reshape(dimension)\n",
    "arr.reshape(1, -1, 10).shape"
   ]
  },
  {
   "cell_type": "code",
   "execution_count": null,
   "metadata": {},
   "outputs": [],
   "source": [
    "onnx.helper.make_node(\n",
    "    'Reshape',\n",
    "    inputs=['date'],\n",
    "    outputs=['data_reshaped']\n",
    ")"
   ]
  },
  {
   "cell_type": "code",
   "execution_count": null,
   "metadata": {},
   "outputs": [],
   "source": [
    "onnx_fpath = [Path to .onnx model]\n",
    "onnx_model = onnx.load(onnx_fpath)\n",
    "\n",
    "# make constant tensors\n",
    "score_threshold = helper.make_tensor(\"score_threshold\", TensorProto.FLOAT, [1], [0.9])\n",
    "iou_threshold = helper.make_tensor(\"iou_threshold\", TensorProto.FLOAT, [1], [0.3])\n",
    "max_output_boxes_per_class = onnx.helper.make_tensor(\"max_output_boxes_per_class\", TensorProto.INT64, [1], [200])\n",
    "\n",
    "# create the NMS node\n",
    "inputs=['bboxes', 'scores', 'max_output_boxes_per_class', 'iou_threshold', 'score_threshold',]\n",
    "outputs = [\"selected_indices\"]\n",
    "nms_node = onnx.helper.make_node(\n",
    "    'NonMaxSuppression',\n",
    "    inputs,\n",
    "    [\"selected_indices\"],\n",
    ")\n",
    "\n",
    "# add to the list of graph nodes\n",
    "graph.node.append(nms_node)\n",
    "\n",
    "# append to the output (now the outputs would be scores, bboxes, selected_indices)\n",
    "output_value_info = onnx.helper.make_tensor_value_info(\"selected_indices\", TensorProto.INT64, shape=[])\n",
    "graph.output.append(output_value_info)\n",
    "\n",
    "# add to initializers - without this, onnx will not know where these came from, and complain that \n",
    "# they're neither outputs of other nodes, nor inputs. As initializers, however, they are treated \n",
    "# as constants needed for the NMS op\n",
    "graph.initializer.append(score_threshold)\n",
    "graph.initializer.append(iou_threshold)\n",
    "graph.initializer.append(max_output_boxes_per_class)\n",
    "\n",
    "# check that it works and re-save\n",
    "onnx.checker.check_model(onnx_model)\n",
    "onnx.save(onnx_model, onnx_fpath)"
   ]
  }
 ],
 "metadata": {
  "kernelspec": {
   "display_name": "project-p",
   "language": "python",
   "name": "python3"
  },
  "language_info": {
   "codemirror_mode": {
    "name": "ipython",
    "version": 3
   },
   "file_extension": ".py",
   "mimetype": "text/x-python",
   "name": "python",
   "nbconvert_exporter": "python",
   "pygments_lexer": "ipython3",
   "version": "3.9.19"
  },
  "orig_nbformat": 4
 },
 "nbformat": 4,
 "nbformat_minor": 2
}
